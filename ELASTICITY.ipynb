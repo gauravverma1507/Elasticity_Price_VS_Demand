{
 "cells": [
  {
   "cell_type": "code",
   "execution_count": 1,
   "id": "585931d6",
   "metadata": {},
   "outputs": [],
   "source": [
    "import numpy as np\n",
    "import pandas as pd\n",
    "import seaborn as sns\n",
    "import matplotlib.pyplot as plt"
   ]
  },
  {
   "cell_type": "code",
   "execution_count": 2,
   "id": "e9ba6270",
   "metadata": {},
   "outputs": [],
   "source": [
    "df = pd.read_excel('Book1.xlsx')"
   ]
  },
  {
   "cell_type": "code",
   "execution_count": 3,
   "id": "e1d3473f",
   "metadata": {},
   "outputs": [
    {
     "data": {
      "text/html": [
       "<div>\n",
       "<style scoped>\n",
       "    .dataframe tbody tr th:only-of-type {\n",
       "        vertical-align: middle;\n",
       "    }\n",
       "\n",
       "    .dataframe tbody tr th {\n",
       "        vertical-align: top;\n",
       "    }\n",
       "\n",
       "    .dataframe thead th {\n",
       "        text-align: right;\n",
       "    }\n",
       "</style>\n",
       "<table border=\"1\" class=\"dataframe\">\n",
       "  <thead>\n",
       "    <tr style=\"text-align: right;\">\n",
       "      <th></th>\n",
       "      <th>Price</th>\n",
       "      <th>Demand</th>\n",
       "    </tr>\n",
       "  </thead>\n",
       "  <tbody>\n",
       "    <tr>\n",
       "      <th>0</th>\n",
       "      <td>32.0</td>\n",
       "      <td>100</td>\n",
       "    </tr>\n",
       "    <tr>\n",
       "      <th>1</th>\n",
       "      <td>23.0</td>\n",
       "      <td>200</td>\n",
       "    </tr>\n",
       "    <tr>\n",
       "      <th>2</th>\n",
       "      <td>21.0</td>\n",
       "      <td>500</td>\n",
       "    </tr>\n",
       "    <tr>\n",
       "      <th>3</th>\n",
       "      <td>18.0</td>\n",
       "      <td>800</td>\n",
       "    </tr>\n",
       "    <tr>\n",
       "      <th>4</th>\n",
       "      <td>17.0</td>\n",
       "      <td>900</td>\n",
       "    </tr>\n",
       "  </tbody>\n",
       "</table>\n",
       "</div>"
      ],
      "text/plain": [
       "   Price  Demand\n",
       "0   32.0     100\n",
       "1   23.0     200\n",
       "2   21.0     500\n",
       "3   18.0     800\n",
       "4   17.0     900"
      ]
     },
     "execution_count": 3,
     "metadata": {},
     "output_type": "execute_result"
    }
   ],
   "source": [
    "df.head()"
   ]
  },
  {
   "cell_type": "code",
   "execution_count": 4,
   "id": "dda0d185",
   "metadata": {},
   "outputs": [
    {
     "data": {
      "text/plain": [
       "<AxesSubplot:xlabel='Price', ylabel='Demand'>"
      ]
     },
     "execution_count": 4,
     "metadata": {},
     "output_type": "execute_result"
    },
    {
     "data": {
      "image/png": "[encoded data removed]",
      "text/plain": [
       "<Figure size 432x288 with 1 Axes>"
      ]
     },
     "metadata": {
      "needs_background": "light"
     },
     "output_type": "display_data"
    }
   ],
   "source": [
    "sns.regplot(x=\"Price\", y=\"Demand\", data=df,fit_reg=True) # fit_reg = False doest draw the linear line"
   ]
  },
  {
   "cell_type": "markdown",
   "id": "833280e9",
   "metadata": {},
   "source": [
    "## Refer to image in repository to check which transformation of data is to be applied "
   ]
  },
  {
   "cell_type": "markdown",
   "id": "a1138cb3",
   "metadata": {},
   "source": [
    "## Now we will find out the correlation and then R-sq. for price and demand"
   ]
  },
  {
   "cell_type": "code",
   "execution_count": 5,
   "id": "88e7f0bd",
   "metadata": {},
   "outputs": [
    {
     "data": {
      "text/plain": [
       "-0.7776754206969088"
      ]
     },
     "execution_count": 5,
     "metadata": {},
     "output_type": "execute_result"
    }
   ],
   "source": [
    "correlation = df['Price'].corr(df['Demand'])\n",
    "correlation"
   ]
  },
  {
   "cell_type": "code",
   "execution_count": 6,
   "id": "c9efa142",
   "metadata": {},
   "outputs": [
    {
     "data": {
      "text/plain": [
       "0.604779059956114"
      ]
     },
     "execution_count": 6,
     "metadata": {},
     "output_type": "execute_result"
    }
   ],
   "source": [
    "R_sq = correlation**2\n",
    "R_sq\n",
    "\n",
    "\n",
    "#this means we have 98% variance  ~ Variance is a measure of how data points differ from the mean."
   ]
  },
  {
   "cell_type": "markdown",
   "id": "6865c963",
   "metadata": {},
   "source": [
    "### Now do the data Transformation "
   ]
  },
  {
   "cell_type": "code",
   "execution_count": 7,
   "id": "8eba4674",
   "metadata": {},
   "outputs": [
    {
     "data": {
      "text/html": [
       "<div>\n",
       "<style scoped>\n",
       "    .dataframe tbody tr th:only-of-type {\n",
       "        vertical-align: middle;\n",
       "    }\n",
       "\n",
       "    .dataframe tbody tr th {\n",
       "        vertical-align: top;\n",
       "    }\n",
       "\n",
       "    .dataframe thead th {\n",
       "        text-align: right;\n",
       "    }\n",
       "</style>\n",
       "<table border=\"1\" class=\"dataframe\">\n",
       "  <thead>\n",
       "    <tr style=\"text-align: right;\">\n",
       "      <th></th>\n",
       "      <th>Price</th>\n",
       "      <th>Demand</th>\n",
       "      <th>LogPrice</th>\n",
       "      <th>LogDemand</th>\n",
       "    </tr>\n",
       "  </thead>\n",
       "  <tbody>\n",
       "    <tr>\n",
       "      <th>0</th>\n",
       "      <td>32.0</td>\n",
       "      <td>100</td>\n",
       "      <td>3.465736</td>\n",
       "      <td>4.605170</td>\n",
       "    </tr>\n",
       "    <tr>\n",
       "      <th>1</th>\n",
       "      <td>23.0</td>\n",
       "      <td>200</td>\n",
       "      <td>3.135494</td>\n",
       "      <td>5.298317</td>\n",
       "    </tr>\n",
       "    <tr>\n",
       "      <th>2</th>\n",
       "      <td>21.0</td>\n",
       "      <td>500</td>\n",
       "      <td>3.044522</td>\n",
       "      <td>6.214608</td>\n",
       "    </tr>\n",
       "    <tr>\n",
       "      <th>3</th>\n",
       "      <td>18.0</td>\n",
       "      <td>800</td>\n",
       "      <td>2.890372</td>\n",
       "      <td>6.684612</td>\n",
       "    </tr>\n",
       "    <tr>\n",
       "      <th>4</th>\n",
       "      <td>17.0</td>\n",
       "      <td>900</td>\n",
       "      <td>2.833213</td>\n",
       "      <td>6.802395</td>\n",
       "    </tr>\n",
       "  </tbody>\n",
       "</table>\n",
       "</div>"
      ],
      "text/plain": [
       "   Price  Demand  LogPrice  LogDemand\n",
       "0   32.0     100  3.465736   4.605170\n",
       "1   23.0     200  3.135494   5.298317\n",
       "2   21.0     500  3.044522   6.214608\n",
       "3   18.0     800  2.890372   6.684612\n",
       "4   17.0     900  2.833213   6.802395"
      ]
     },
     "execution_count": 7,
     "metadata": {},
     "output_type": "execute_result"
    }
   ],
   "source": [
    "df['LogPrice']= np.log(df['Price'])\n",
    "df['LogDemand']= np.log(df['Demand'])\n",
    "df.head()"
   ]
  },
  {
   "cell_type": "markdown",
   "id": "9bbed4ec",
   "metadata": {},
   "source": [
    "### We have to apply linear regression to calculate elasticity \n",
    "\n",
    "We have 2 ways to do that \n",
    "\n",
    "Lets check one by one"
   ]
  },
  {
   "cell_type": "markdown",
   "id": "197d594f",
   "metadata": {},
   "source": [
    "# Method 1) SKLEARN -Linear Regression"
   ]
  },
  {
   "cell_type": "code",
   "execution_count": 8,
   "id": "ae00274f",
   "metadata": {},
   "outputs": [],
   "source": [
    "from sklearn import linear_model\n",
    "from sklearn.metrics import mean_squared_error , r2_score"
   ]
  },
  {
   "cell_type": "code",
   "execution_count": 9,
   "id": "9ed79bc9",
   "metadata": {},
   "outputs": [],
   "source": [
    "lm = linear_model.LinearRegression()"
   ]
  },
  {
   "cell_type": "code",
   "execution_count": 10,
   "id": "61f1b4ca",
   "metadata": {},
   "outputs": [
    {
     "data": {
      "text/plain": [
       "LinearRegression()"
      ]
     },
     "execution_count": 10,
     "metadata": {},
     "output_type": "execute_result"
    }
   ],
   "source": [
    "lm.fit(np.array(df['LogDemand']).reshape(-1,1)   ,   np.array(df['LogPrice']).reshape(-1,1))"
   ]
  },
  {
   "cell_type": "code",
   "execution_count": 11,
   "id": "27cf0a59",
   "metadata": {},
   "outputs": [
    {
     "data": {
      "text/plain": [
       "array([[-0.25758712]])"
      ]
     },
     "execution_count": 11,
     "metadata": {},
     "output_type": "execute_result"
    }
   ],
   "source": [
    "lm.coef_ # price will increase then demand will decrease"
   ]
  },
  {
   "cell_type": "markdown",
   "id": "eda916f2",
   "metadata": {},
   "source": [
    "# ELASTICITY : -0.25\n",
    "    \n",
    "lm.coef_\n",
    "array([[-0.25758712]])    "
   ]
  },
  {
   "cell_type": "code",
   "execution_count": 12,
   "id": "a3176fd1",
   "metadata": {},
   "outputs": [
    {
     "data": {
      "text/plain": [
       "array([4.60718585])"
      ]
     },
     "execution_count": 12,
     "metadata": {},
     "output_type": "execute_result"
    }
   ],
   "source": [
    "lm.intercept_ # The mean of the response, Y"
   ]
  },
  {
   "cell_type": "code",
   "execution_count": 13,
   "id": "cf7e2e20",
   "metadata": {},
   "outputs": [
    {
     "data": {
      "text/html": [
       "<div>\n",
       "<style scoped>\n",
       "    .dataframe tbody tr th:only-of-type {\n",
       "        vertical-align: middle;\n",
       "    }\n",
       "\n",
       "    .dataframe tbody tr th {\n",
       "        vertical-align: top;\n",
       "    }\n",
       "\n",
       "    .dataframe thead th {\n",
       "        text-align: right;\n",
       "    }\n",
       "</style>\n",
       "<table border=\"1\" class=\"dataframe\">\n",
       "  <thead>\n",
       "    <tr style=\"text-align: right;\">\n",
       "      <th></th>\n",
       "      <th>Price</th>\n",
       "      <th>Demand</th>\n",
       "      <th>LogDemand</th>\n",
       "      <th>LogPrice</th>\n",
       "    </tr>\n",
       "  </thead>\n",
       "  <tbody>\n",
       "    <tr>\n",
       "      <th>0</th>\n",
       "      <td>32.0</td>\n",
       "      <td>100</td>\n",
       "      <td>4.605170</td>\n",
       "      <td>3.465736</td>\n",
       "    </tr>\n",
       "    <tr>\n",
       "      <th>1</th>\n",
       "      <td>23.0</td>\n",
       "      <td>200</td>\n",
       "      <td>5.298317</td>\n",
       "      <td>3.135494</td>\n",
       "    </tr>\n",
       "    <tr>\n",
       "      <th>2</th>\n",
       "      <td>21.0</td>\n",
       "      <td>500</td>\n",
       "      <td>6.214608</td>\n",
       "      <td>3.044522</td>\n",
       "    </tr>\n",
       "    <tr>\n",
       "      <th>3</th>\n",
       "      <td>18.0</td>\n",
       "      <td>800</td>\n",
       "      <td>6.684612</td>\n",
       "      <td>2.890372</td>\n",
       "    </tr>\n",
       "    <tr>\n",
       "      <th>4</th>\n",
       "      <td>17.0</td>\n",
       "      <td>900</td>\n",
       "      <td>6.802395</td>\n",
       "      <td>2.833213</td>\n",
       "    </tr>\n",
       "  </tbody>\n",
       "</table>\n",
       "</div>"
      ],
      "text/plain": [
       "   Price  Demand  LogDemand  LogPrice\n",
       "0   32.0     100   4.605170  3.465736\n",
       "1   23.0     200   5.298317  3.135494\n",
       "2   21.0     500   6.214608  3.044522\n",
       "3   18.0     800   6.684612  2.890372\n",
       "4   17.0     900   6.802395  2.833213"
      ]
     },
     "execution_count": 13,
     "metadata": {},
     "output_type": "execute_result"
    }
   ],
   "source": [
    "# creating a dataframe\n",
    "df2 = pd.DataFrame()\n",
    "df2['Price']= df['Price'].values.copy()\n",
    "df2['Demand']= df['Demand'].values.copy()\n",
    "df2['LogDemand']= df['LogDemand'].values.copy()\n",
    "df2['LogPrice']= df['LogPrice'].values.copy()\n",
    "df2.head()"
   ]
  },
  {
   "cell_type": "code",
   "execution_count": 14,
   "id": "b74780f0",
   "metadata": {},
   "outputs": [],
   "source": [
    "df2['PredSKlearn']=lm.predict(np.array(df2['LogPrice']).reshape(-1, 1))"
   ]
  },
  {
   "cell_type": "code",
   "execution_count": 15,
   "id": "ea579eb4",
   "metadata": {},
   "outputs": [
    {
     "data": {
      "text/html": [
       "<div>\n",
       "<style scoped>\n",
       "    .dataframe tbody tr th:only-of-type {\n",
       "        vertical-align: middle;\n",
       "    }\n",
       "\n",
       "    .dataframe tbody tr th {\n",
       "        vertical-align: top;\n",
       "    }\n",
       "\n",
       "    .dataframe thead th {\n",
       "        text-align: right;\n",
       "    }\n",
       "</style>\n",
       "<table border=\"1\" class=\"dataframe\">\n",
       "  <thead>\n",
       "    <tr style=\"text-align: right;\">\n",
       "      <th></th>\n",
       "      <th>Price</th>\n",
       "      <th>Demand</th>\n",
       "      <th>LogDemand</th>\n",
       "      <th>LogPrice</th>\n",
       "      <th>PredSKlearn</th>\n",
       "    </tr>\n",
       "  </thead>\n",
       "  <tbody>\n",
       "    <tr>\n",
       "      <th>0</th>\n",
       "      <td>32.0</td>\n",
       "      <td>100</td>\n",
       "      <td>4.605170</td>\n",
       "      <td>3.465736</td>\n",
       "      <td>3.714457</td>\n",
       "    </tr>\n",
       "    <tr>\n",
       "      <th>1</th>\n",
       "      <td>23.0</td>\n",
       "      <td>200</td>\n",
       "      <td>5.298317</td>\n",
       "      <td>3.135494</td>\n",
       "      <td>3.799523</td>\n",
       "    </tr>\n",
       "    <tr>\n",
       "      <th>2</th>\n",
       "      <td>21.0</td>\n",
       "      <td>500</td>\n",
       "      <td>6.214608</td>\n",
       "      <td>3.044522</td>\n",
       "      <td>3.822956</td>\n",
       "    </tr>\n",
       "    <tr>\n",
       "      <th>3</th>\n",
       "      <td>18.0</td>\n",
       "      <td>800</td>\n",
       "      <td>6.684612</td>\n",
       "      <td>2.890372</td>\n",
       "      <td>3.862663</td>\n",
       "    </tr>\n",
       "    <tr>\n",
       "      <th>4</th>\n",
       "      <td>17.0</td>\n",
       "      <td>900</td>\n",
       "      <td>6.802395</td>\n",
       "      <td>2.833213</td>\n",
       "      <td>3.877387</td>\n",
       "    </tr>\n",
       "  </tbody>\n",
       "</table>\n",
       "</div>"
      ],
      "text/plain": [
       "   Price  Demand  LogDemand  LogPrice  PredSKlearn\n",
       "0   32.0     100   4.605170  3.465736     3.714457\n",
       "1   23.0     200   5.298317  3.135494     3.799523\n",
       "2   21.0     500   6.214608  3.044522     3.822956\n",
       "3   18.0     800   6.684612  2.890372     3.862663\n",
       "4   17.0     900   6.802395  2.833213     3.877387"
      ]
     },
     "execution_count": 15,
     "metadata": {},
     "output_type": "execute_result"
    }
   ],
   "source": [
    "df2.head()"
   ]
  },
  {
   "cell_type": "code",
   "execution_count": 16,
   "id": "d797675e",
   "metadata": {},
   "outputs": [
    {
     "name": "stdout",
     "output_type": "stream",
     "text": [
      "RMSE :3.6150 \n"
     ]
    }
   ],
   "source": [
    "# calculate rmse\n",
    "print('RMSE :%.4f '% np.sqrt(mean_squared_error(np.array(df2['LogDemand']).reshape(-1,1)  ,  np.array(df2['PredSKlearn']).reshape(-1,1))))"
   ]
  },
  {
   "cell_type": "code",
   "execution_count": 17,
   "id": "12d1d814",
   "metadata": {},
   "outputs": [
    {
     "name": "stdout",
     "output_type": "stream",
     "text": [
      "R**2 :  -7.6586\n"
     ]
    }
   ],
   "source": [
    "# calculate r**2\n",
    "print('R**2 :  %.4f'% r2_score(np.array(df2['LogDemand']).reshape(-1,1)  ,  np.array(df2['PredSKlearn']).reshape(-1,1)))"
   ]
  }
 ],
 "metadata": {
  "kernelspec": {
   "display_name": "Python 3",
   "language": "python",
   "name": "python3"
  },
  "language_info": {
   "codemirror_mode": {
    "name": "ipython",
    "version": 3
   },
   "file_extension": ".py",
   "mimetype": "text/x-python",
   "name": "python",
   "nbconvert_exporter": "python",
   "pygments_lexer": "ipython3",
   "version": "3.8.8"
  }
 },
 "nbformat": 4,
 "nbformat_minor": 5
}
